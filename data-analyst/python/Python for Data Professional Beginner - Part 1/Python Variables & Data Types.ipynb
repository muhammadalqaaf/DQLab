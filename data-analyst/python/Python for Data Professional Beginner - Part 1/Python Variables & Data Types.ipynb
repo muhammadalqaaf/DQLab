{
 "cells": [
  {
   "cell_type": "markdown",
   "id": "45079f69",
   "metadata": {},
   "source": [
    "## Sequence Type - Part 1\n",
    "\n",
    "Tipe data ini digunakan untuk menampung sekumpulan data secara terorganisir.\n",
    "Bentuk dari tipe data sequence ini adalah **List** dan **Tuple**.\n",
    "\n",
    "### Tugas :\n",
    "1. Petunjuk 1: Input data `1`, `'dua'`, `3`, `4.0`, `5` ke dalam contoh_list\n",
    "2. Petunjuk 2: Ambil Elemen pertama dari `contoh_list` untuk menampilkan output `1` menggunakan `print` statement\n",
    "3. Petunjuk 3: Ambil Elemen ke empat dari `contoh_list` untuk menampilkan output `4.0` menggunakan `print` statement\n",
    "4. Petunjuk 4: Input data `1`, `'dua'`, `3`, `4.0`, `5` ke dalam `contoh_list`\n",
    "5. Petunjuk 5: Rubah Elemen keempat dalam `contoh_list` menjadi `'empat'`\n",
    "6. Petunjuk 6: Tampilkan output elemen keempat yang telah dirubah tersebut menggunakan `print` statement"
   ]
  },
  {
   "cell_type": "code",
   "execution_count": 1,
   "id": "0b37e407",
   "metadata": {},
   "outputs": [
    {
     "name": "stdout",
     "output_type": "stream",
     "text": [
      "1\n",
      "4.0\n",
      "empat\n"
     ]
    }
   ],
   "source": [
    "contoh_list = [1, 'dua', 3, 4.0, 5]\n",
    "print(contoh_list[0])\n",
    "print(contoh_list[3])\n",
    "contoh_list = [1, 'dua', 3, '4.0', 5]\n",
    "contoh_list[3] = 'empat'\n",
    "print(contoh_list[3])"
   ]
  },
  {
   "cell_type": "markdown",
   "id": "de04b566",
   "metadata": {},
   "source": [
    "## Sequence Type – Part 2\n",
    "\n",
    "Setelah mempelajari tipe data **list**, aku mempelajari tipe data **tuple**. Tipe data **tuple** juga berfungsi untuk menampung sekumpulan data. Tipe data ini diawali dengan tanda kurung buka ( `(` ), memisahkan setiap elemen di dalamnya dengan tanda koma ( `,` ) dan ditutup dengan tanda kurung tutup ( `)` ).\n",
    "\n",
    "Aturan indeks dan cara mengakses elemen pada sebuah tuple serupa dengan list.\n",
    "\n",
    "Berbeda dengan tipe data **list**, tipe data **tuple** bersifat **immutable** yang berarti elemen pada tipe data tuple tidak dapat diubah setelah proses pendeklarasiannya.\n",
    "\n",
    "### Tugas :\n",
    "1. Petunjuk 1: Input data **Januari sampai dengan April** ke dalam contoh_tuple\n",
    "2. Petunjuk 2: Ambil Elemen pertama dari `contoh_tuple` untuk menampilkan output `1` menggunakan `print` statement\n",
    "3. Petunjuk 3: **Input kembali** data **Januari sampai dengan April** ke dalam `contoh_tuple`\n",
    "4. Petunjuk 4: Rubah Elemen pertama dalam `contoh_tuple` menjadi `'Desember'`\n",
    "\n",
    "Ketika dijlankan ini akan menghasilkan error yaitu `TypeError`, silakan kamu submit dengan adanya error dari output pada Petunjuk 4 tersebut. "
   ]
  },
  {
   "cell_type": "code",
   "execution_count": 2,
   "id": "6f4e8bca",
   "metadata": {},
   "outputs": [
    {
     "name": "stdout",
     "output_type": "stream",
     "text": [
      "Januari\n"
     ]
    },
    {
     "ename": "TypeError",
     "evalue": "'tuple' object does not support item assignment",
     "output_type": "error",
     "traceback": [
      "\u001b[0;31m---------------------------------------------------------------------------\u001b[0m",
      "\u001b[0;31mTypeError\u001b[0m                                 Traceback (most recent call last)",
      "Cell \u001b[0;32mIn[2], line 4\u001b[0m\n\u001b[1;32m      2\u001b[0m \u001b[38;5;28mprint\u001b[39m(contoh_tuple[\u001b[38;5;241m0\u001b[39m])\n\u001b[1;32m      3\u001b[0m contoh_tuple \u001b[38;5;241m=\u001b[39m (\u001b[38;5;124m'\u001b[39m\u001b[38;5;124mJanuari\u001b[39m\u001b[38;5;124m'\u001b[39m, \u001b[38;5;124m'\u001b[39m\u001b[38;5;124mFebruari\u001b[39m\u001b[38;5;124m'\u001b[39m, \u001b[38;5;124m'\u001b[39m\u001b[38;5;124mMaret\u001b[39m\u001b[38;5;124m'\u001b[39m, \u001b[38;5;124m'\u001b[39m\u001b[38;5;124mApril\u001b[39m\u001b[38;5;124m'\u001b[39m)\n\u001b[0;32m----> 4\u001b[0m \u001b[43mcontoh_tuple\u001b[49m\u001b[43m[\u001b[49m\u001b[38;5;241;43m0\u001b[39;49m\u001b[43m]\u001b[49m \u001b[38;5;241m=\u001b[39m \u001b[38;5;124m'\u001b[39m\u001b[38;5;124mDesember\u001b[39m\u001b[38;5;124m'\u001b[39m\n",
      "\u001b[0;31mTypeError\u001b[0m: 'tuple' object does not support item assignment"
     ]
    }
   ],
   "source": [
    "contoh_tuple = ('Januari', 'Februari', 'Maret', 'April')\n",
    "print(contoh_tuple[0])\n",
    "contoh_tuple = ('Januari', 'Februari', 'Maret', 'April')\n",
    "contoh_tuple[0] = 'Desember'"
   ]
  },
  {
   "cell_type": "markdown",
   "id": "384c7e10",
   "metadata": {},
   "source": [
    "## Set Type\n",
    "\n",
    "Serupa dengan tipe data *sequence*, tipe data **set** digunakan untuk menampung sekumpulan data dengan tipe lainnya. Terdapat dua jenis dari tipe data *set* yaitu, **set** dan **frozenset**.\n",
    "\n",
    "Tipe data **set** diawali dengan tanda kurung buka kurawal ( `{` ), memisahkan setiap elemen di dalamnya dengan tanda koma ( `,` ) dan ditutup dengan tanda kurung tutup ( `}` ). Namun berbeda dengan tipe data *sequence*, seperti *list*, **tipe data objek tidak mengizinkan adanya elemen dengan nilai yang sama** dan **tidak memperdulikan urutan** dari elemen.\n",
    "\n",
    "Bagaimana dengan tipe data **frozenset**? Tipe data frozenset sebenarnya hanya merupakan set yang bersifat **immutable**, yang artinya setiap elemen di dalam frozenset tidak dapat diubah setelah proses deklarasinya.\n",
    "\n",
    "### Tugas :\n",
    "1. Tugas 1:Input data Dewi, Budi, Cici, Linda, Cici kedalam tipe data list dan tampilkan hasilnya\n",
    "2. Tugas 2: Input data Dewi, Budi, Cici, Linda, Cici kedalam tipe data set dan tampilkan hasilnya\n",
    "3. Tugas 3: Input data Dewi, Budi, Cici, Linda, Cici kedalam tipe data frozenset dan tampilkan hasilnya"
   ]
  },
  {
   "cell_type": "code",
   "execution_count": 3,
   "id": "f2f0d1ab",
   "metadata": {},
   "outputs": [
    {
     "name": "stdout",
     "output_type": "stream",
     "text": [
      "('Dewi', 'Budi', 'Cici', 'Linda', 'Cici')\n",
      "{'Linda', 'Cici', 'Budi', 'Dewi'}\n",
      "{'Linda', 'Cici', 'Budi', 'Dewi'}\n"
     ]
    }
   ],
   "source": [
    "contoh_list = ('Dewi', 'Budi', 'Cici', 'Linda', 'Cici') \n",
    "print(contoh_list)\n",
    "contoh_set = {'Dewi', 'Budi', 'Cici', 'Linda', 'Cici'}\n",
    "print(contoh_set)\n",
    "contoh_frozen_set = ({'Dewi', 'Budi', 'Cici', 'Linda', 'Cici'})\n",
    "print(contoh_frozen_set)"
   ]
  },
  {
   "cell_type": "markdown",
   "id": "7ee9221f",
   "metadata": {},
   "source": [
    "## Mapping Type\n",
    "\n",
    "Tipe data **mapping** dapat digunakan untuk memetakan sebuah nilai ke nilai lainnya. Dalam Python, tipe data mapping disebut dengan istilah **dictionary**. Tipe data dictionary dapat dideklarasikan dengan diawali oleh tanda kurung buka kurawal ( `{` ), memisahkan setiap elemen di dalamnya dengan tanda koma ( `,` ) dan ditutup dengan tanda kurung tutup ( `}` ). Setiap elemen pada tipe data dictionary dideklarasikan dengan format:\n",
    "\n",
    "`\"kunci\" : \"nilai\"`\n",
    "\n",
    "### Tugas :\n",
    "Menggunakan tipe data *mapping*, aku diminta Senja untuk menampilkan nama & pekerjaan John Doe, seorang *Programmer*."
   ]
  },
  {
   "cell_type": "code",
   "execution_count": 4,
   "id": "0b626db7",
   "metadata": {},
   "outputs": [
    {
     "name": "stdout",
     "output_type": "stream",
     "text": [
      "John Doe\n",
      "Programmer\n"
     ]
    }
   ],
   "source": [
    "person = {'nama': 'John Doe', 'pekerjaan': 'Programmer'}\n",
    "print(person['nama'])\n",
    "print(person['pekerjaan'])"
   ]
  },
  {
   "cell_type": "code",
   "execution_count": 6,
   "id": "4dd2da31",
   "metadata": {},
   "outputs": [
    {
     "name": "stdout",
     "output_type": "stream",
     "text": [
      "╒═══════════════╤═════════╤══════════╕\n",
      "│ Nama Barang   │   Harga │   Diskon │\n",
      "╞═══════════════╪═════════╪══════════╡\n",
      "│ Sepatu Niko   │  150000 │    30000 │\n",
      "├───────────────┼─────────┼──────────┤\n",
      "│ Baju Unikloh  │   80000 │     8000 │\n",
      "├───────────────┼─────────┼──────────┤\n",
      "│ Celana Lepis  │  200000 │    60000 │\n",
      "╘═══════════════╧═════════╧══════════╛\n"
     ]
    }
   ],
   "source": [
    "from tabulate import tabulate\n",
    "\n",
    "# Sample data\n",
    "data = [\n",
    "    [\"Sepatu Niko\", 150000, 30000],\n",
    "    [\"Baju Unikloh\", 80000, 8000],\n",
    "    [\"Celana Lepis\", 200000, 60000]\n",
    "]\n",
    "\n",
    "# Column headers\n",
    "headers = [\"Nama Barang\", \"Harga\", \"Diskon\"]\n",
    "\n",
    "# Create table\n",
    "table = tabulate(data, headers, tablefmt=\"fancy_grid\")\n",
    "\n",
    "# Print table\n",
    "print(table)"
   ]
  },
  {
   "cell_type": "markdown",
   "id": "743a8d6d",
   "metadata": {},
   "source": [
    "## Tugas Praktek"
   ]
  },
  {
   "cell_type": "code",
   "execution_count": 7,
   "id": "e305e8d4",
   "metadata": {},
   "outputs": [],
   "source": [
    "sepatu = {\"nama\": 'Sepatu Niko', 'harga': 150000, \"diskon\": 30000 }\n",
    "baju = {\"nama\": 'Baju Unikloh', 'harga': 80000, \"diskon\": 8000 }\n",
    "celana = {\"nama\": 'Celana Lepis', 'harga': 200000, \"diskon\": 60000 }"
   ]
  },
  {
   "cell_type": "markdown",
   "id": "c378c5dd",
   "metadata": {},
   "source": [
    "Setelah berhasil merepresentasikan setiap barang ke dalam tipe data *dictionary* dengan variabel `nama`, `harga`, dan `diskon`, langkahku selanjutnya adalah: mendeklarasikan *list* dengan nama `daftar_belanja` yang berisi data `sepatu`, `baju`, dan `celana`."
   ]
  },
  {
   "cell_type": "code",
   "execution_count": 8,
   "id": "37a9c069",
   "metadata": {},
   "outputs": [],
   "source": [
    "sepatu = {\"nama\": \"Sepatu Niko\", \"harga\": 150000, \"diskon\": 30000} \n",
    "baju = {\"nama\": \"Baju Unikloh\", \"harga\": 80000, \"diskon\": 8000} \n",
    "celana = {\"nama\": \"Celana Lepis\", \"harga\": 200000, \"diskon\": 60000} \n",
    "daftar_belanja = [sepatu, baju, celana]"
   ]
  },
  {
   "cell_type": "markdown",
   "id": "bbe8dc72",
   "metadata": {},
   "source": [
    "Menghitung total harga jual dengan potongan harga beserta pajak sebesar 10% dari nilai jual.\n",
    "\n",
    "Tips untuk menyelesaikan tugas ini:\n",
    "\n",
    "1. Tips 1. # Data yang dinyatakan ke dalam dictionary\n",
    "2. Tips 2. # Hitung harga masing-masing data setelah dikurangi diskon\n",
    "3. Tips 3. # Hitung harga total\n",
    "4. Tips 4. # Hitung harga kena pajak\n",
    "5. Tips 5. # Cetak total_harga + total_pajak"
   ]
  },
  {
   "cell_type": "code",
   "execution_count": 9,
   "id": "4438d892",
   "metadata": {},
   "outputs": [
    {
     "name": "stdout",
     "output_type": "stream",
     "text": [
      "365200.0\n"
     ]
    }
   ],
   "source": [
    "# Data yang dinyatakan ke dalam dictionary\n",
    "sepatu = {\"nama\": \"Sepatu Niko\", \"harga\": 150000, \"diskon\": 30000} \n",
    "baju = {\"nama\": \"Baju Unikloh\", \"harga\": 80000, \"diskon\": 8000} \n",
    "celana = {\"nama\": \"Celana Lepis\", \"harga\": 200000, \"diskon\": 60000}\n",
    "# Hitunglah harga masing-masing data setelah dikurangi diskon\n",
    "harga_sepatu = sepatu[\"harga\"] - sepatu[\"diskon\"] \n",
    "harga_baju = baju[\"harga\"] - baju[\"diskon\"]\n",
    "harga_celana = celana[\"harga\"] - celana[\"diskon\"]\n",
    "# Hitung harga total\n",
    "total_harga = harga_sepatu + harga_baju + harga_celana\n",
    "# Hitung harga kena pajak\n",
    "total_pajak = total_harga * 0.1\n",
    "# Cetak total_harga + total_pajak\n",
    "print(total_harga + total_pajak)"
   ]
  },
  {
   "cell_type": "code",
   "execution_count": null,
   "id": "05959321",
   "metadata": {},
   "outputs": [],
   "source": []
  }
 ],
 "metadata": {
  "kernelspec": {
   "display_name": "Python 3 (ipykernel)",
   "language": "python",
   "name": "python3"
  },
  "language_info": {
   "codemirror_mode": {
    "name": "ipython",
    "version": 3
   },
   "file_extension": ".py",
   "mimetype": "text/x-python",
   "name": "python",
   "nbconvert_exporter": "python",
   "pygments_lexer": "ipython3",
   "version": "3.8.13"
  }
 },
 "nbformat": 4,
 "nbformat_minor": 5
}
